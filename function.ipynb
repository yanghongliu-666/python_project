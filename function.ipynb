{
 "cells": [
  {
   "cell_type": "code",
   "execution_count": 1,
   "metadata": {},
   "outputs": [],
   "source": [
    "from word_dict import posi_dict,nati_dict,fuci_dict_1,fuci_dict_2"
   ]
  },
  {
   "cell_type": "markdown",
   "metadata": {},
   "source": [
    "# 判断中性词"
   ]
  },
  {
   "cell_type": "code",
   "execution_count": 2,
   "metadata": {},
   "outputs": [],
   "source": [
    "def decide_neu(cut_list):\n",
    "  pl_ans = posi_left_nagative_right(cut_list)\n",
    "  pr_ans = posi_right_nagative_left(cut_list)\n",
    "  if pl_ans and not pr_ans:\n",
    "    return 0\n",
    "  elif not pl_ans and pr_ans:\n",
    "    return 0\n",
    "  else:\n",
    "    return 404"
   ]
  },
  {
   "cell_type": "markdown",
   "metadata": {},
   "source": [
    "# 积极词在左，消极词在右的情况 "
   ]
  },
  {
   "cell_type": "code",
   "execution_count": 3,
   "metadata": {},
   "outputs": [],
   "source": [
    "def posi_left_nagative_right(cut_list):\n",
    "  position_of_positive = 0\n",
    "  position_of_nagative = 0\n",
    "  num = len(cut_list)\n",
    "  for i in range(num):\n",
    "    if cut_list(i) in posi_dict:\n",
    "      weight = check_before()\n",
    "      if weight == 0:\n",
    "        position_of_positive += i\n",
    "      else:\n",
    "        position_of_positive -= weight*i#特别正向左移\n",
    "    elif cut_list(i) in nati_dict:\n",
    "      weight = check.check_before()\n",
    "      if weight == 0:\n",
    "        position_of_nagative += i\n",
    "      else:\n",
    "        position_of_nagative += weight*i#特别负向右移\n",
    "  \n",
    "  if position_of_positive < position_of_nagative:\n",
    "    return 1\n",
    "  else:\n",
    "    return 0"
   ]
  },
  {
   "cell_type": "markdown",
   "metadata": {},
   "source": [
    "# 积极词在右，消极词在左的情况"
   ]
  },
  {
   "cell_type": "code",
   "execution_count": 7,
   "metadata": {},
   "outputs": [],
   "source": [
    "def posi_right_nagative_left(cut_list):\n",
    "  position_of_positive = 0\n",
    "  position_of_nagative = 0\n",
    "  num = len(cut_list)\n",
    "  for i in range(num):\n",
    "    if cut_list(i) in posi_dict:\n",
    "      weight = check_before()\n",
    "      if weight == 0:\n",
    "        position_of_positive += i\n",
    "      else:\n",
    "        position_of_positive += weight*i#特别正向右移\n",
    "    elif cut_list(i) in nati_dict:\n",
    "      weight = check.check_before()\n",
    "      if weight == 0:\n",
    "        position_of_nagative += i\n",
    "      else:\n",
    "        position_of_nagative -= weight*i#特别负向左移\n",
    "  \n",
    "  if position_of_positive > position_of_nagative:\n",
    "    return 1\n",
    "  else:\n",
    "    return 0"
   ]
  },
  {
   "cell_type": "markdown",
   "metadata": {},
   "source": [
    "# 对副词的检查，以对情感进行修正"
   ]
  },
  {
   "cell_type": "code",
   "execution_count": 4,
   "metadata": {},
   "outputs": [],
   "source": [
    "def check_before(cut_list, pos):\n",
    "  if cut_list[pos-1] in fuci_dict_1:\n",
    "    return 4#较弱\n",
    "  elif cut_list[pos-1] in fuci_dict_2:\n",
    "    return 8#较强\n",
    "  else:\n",
    "    return 0#default"
   ]
  },
  {
   "cell_type": "code",
   "execution_count": null,
   "metadata": {},
   "outputs": [],
   "source": []
  }
 ],
 "metadata": {
  "kernelspec": {
   "display_name": "Python 3",
   "language": "python",
   "name": "python3"
  },
  "language_info": {
   "codemirror_mode": {
    "name": "ipython",
    "version": 3
   },
   "file_extension": ".py",
   "mimetype": "text/x-python",
   "name": "python",
   "nbconvert_exporter": "python",
   "pygments_lexer": "ipython3",
   "version": "3.7.6-final"
  }
 },
 "nbformat": 4,
 "nbformat_minor": 2
}